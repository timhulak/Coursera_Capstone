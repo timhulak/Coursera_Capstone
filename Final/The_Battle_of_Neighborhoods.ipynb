{
 "cells": [
  {
   "cell_type": "markdown",
   "metadata": {},
   "source": [
    "# Coursera IBM Capstone Project\n",
    "## Part 1"
   ]
  },
  {
   "cell_type": "markdown",
   "metadata": {},
   "source": [
    "### A description of the problem and a discussion of the background. "
   ]
  },
  {
   "cell_type": "markdown",
   "metadata": {},
   "source": [
    "As of July 6, 2019, CBS reports \"U.S. housing rents hit record-high average of 1,405 per month. Think your rent is pricier than ever? You may be right. The national average rent reached an all-time high of 1,405 in June, a 2.9 percent increase from a year earlier, according to data from Yardi Matrix.\" \n",
    "It is no suprise for residents living in New York or the Bay Area that rent is expensive, but is there releif on the horizon or should renters brace for impact? "
   ]
  },
  {
   "cell_type": "markdown",
   "metadata": {},
   "source": [
    "### A description of the data and how it will be used to solve the problem."
   ]
  },
  {
   "attachments": {},
   "cell_type": "markdown",
   "metadata": {},
   "source": [
    "- The data is in tabular form (CSV) and contains 4000 rows by 70 columns. Following the descriptive columns (Location, Location Type, State, and Bedroom_Size) are the numerical data column, each containing a rent price for a particular month of the year. \n",
    "- The Date range of the data is 01/2014 - 06/2019\n",
    "- Location: Name of the city\n",
    "- Location Type: Type of municipality (i.e. a city, town, etc.) \n",
    "- State: What state is the municipality is located in\n",
    "- Bedroom Size: Either a Studio, 1 Bedroom, 2 Bedroom, 3 Bedroom, or 4 Bedroom\n",
    "- The data will be explored, mined, grouped, visualized, and ultimately used to train a model that can predict future rent prices. "
   ]
  },
  {
   "cell_type": "markdown",
   "metadata": {},
   "source": [
    "## Part 2"
   ]
  },
  {
   "cell_type": "markdown",
   "metadata": {},
   "source": [
    "### Introduction: The Business problem and who may be interested in this project."
   ]
  },
  {
   "cell_type": "markdown",
   "metadata": {},
   "source": [
    "Simply put, rent is on the rise. But what can renters expect in the future? \n",
    "- Current renters may be interested in seeing how their rent will change. \n",
    "- Those seeking to rent may be interested in using this to select an area. \n",
    "- Property managers and Real Estate professionals may be interested in leveraging these preditions to help influence business decisions in particular areas. "
   ]
  },
  {
   "cell_type": "markdown",
   "metadata": {},
   "source": [
    "### Data:"
   ]
  },
  {
   "cell_type": "markdown",
   "metadata": {},
   "source": [
    "The data has been gathered from Apartment List (https://www.apartmentlist.com/rentonomics/rental-data/). The following is a blurb from their website describing their service and mission:\n",
    "- \"Apartment List’s Rent Reports cover rental pricing data in major cities, their suburbs, and their neighborhoods. We provide valuable leading indicators of rental price trends, highlight data on top cities, and identify the key facts renters should know. As always, our goal is to provide price transparency to America’s 105 million renters to help them make the best possible decisions in choosing a place to call home.  Apartment List publishes Rent Reports during the first calendar week of each month.\" \n",
    "- The data will be explored, cleaned, grouped, visualized, and ultimately used to train a model that can predict future rent prices. "
   ]
  },
  {
   "cell_type": "markdown",
   "metadata": {},
   "source": [
    "### Methodology:"
   ]
  },
  {
   "cell_type": "markdown",
   "metadata": {},
   "source": [
    "#### Exploratory data analysis"
   ]
  },
  {
   "cell_type": "markdown",
   "metadata": {},
   "source": []
  },
  {
   "cell_type": "markdown",
   "metadata": {},
   "source": [
    "#### Inferential Statistical Testing "
   ]
  },
  {
   "cell_type": "markdown",
   "metadata": {},
   "source": []
  },
  {
   "cell_type": "markdown",
   "metadata": {},
   "source": [
    "#### What machine learnings were used and why"
   ]
  },
  {
   "cell_type": "code",
   "execution_count": null,
   "metadata": {},
   "outputs": [],
   "source": []
  },
  {
   "cell_type": "markdown",
   "metadata": {},
   "source": [
    "### Results:"
   ]
  },
  {
   "cell_type": "code",
   "execution_count": null,
   "metadata": {},
   "outputs": [],
   "source": []
  },
  {
   "cell_type": "markdown",
   "metadata": {},
   "source": [
    "### Discussion: Noted Observations and Recommendations based on the results."
   ]
  },
  {
   "cell_type": "code",
   "execution_count": null,
   "metadata": {},
   "outputs": [],
   "source": []
  },
  {
   "cell_type": "markdown",
   "metadata": {},
   "source": [
    "### Conclusion:"
   ]
  },
  {
   "cell_type": "code",
   "execution_count": null,
   "metadata": {},
   "outputs": [],
   "source": []
  },
  {
   "cell_type": "markdown",
   "metadata": {},
   "source": [
    "## Part 3"
   ]
  },
  {
   "cell_type": "markdown",
   "metadata": {},
   "source": [
    "### Your choice of a presentation or blogpost."
   ]
  },
  {
   "cell_type": "code",
   "execution_count": null,
   "metadata": {},
   "outputs": [],
   "source": []
  },
  {
   "cell_type": "markdown",
   "metadata": {},
   "source": [
    "---"
   ]
  },
  {
   "cell_type": "markdown",
   "metadata": {},
   "source": [
    "# Analysis and Visualizations"
   ]
  },
  {
   "cell_type": "markdown",
   "metadata": {},
   "source": [
    "### Import Dependancies"
   ]
  },
  {
   "cell_type": "code",
   "execution_count": 1,
   "metadata": {},
   "outputs": [],
   "source": [
    "import pandas as pd\n",
    "from pandas.io.json import json_normalize\n",
    "import numpy as np\n",
    "import requests\n",
    "import json\n",
    "from geopy.geocoders import Nominatim\n",
    "import matplotlib.cm as cm\n",
    "import matplotlib.pyplot as plt\n",
    "import matplotlib.colors as colors\n",
    "import seaborn as sns\n",
    "from sklearn.cluster import KMeans\n",
    "import folium"
   ]
  },
  {
   "cell_type": "code",
   "execution_count": 2,
   "metadata": {
    "scrolled": false
   },
   "outputs": [
    {
     "data": {
      "text/plain": [
       "(4000, 70)"
      ]
     },
     "execution_count": 2,
     "metadata": {},
     "output_type": "execute_result"
    }
   ],
   "source": [
    "rent_df = pd.read_csv('rent_data.csv')\n",
    "rent_df.shape"
   ]
  },
  {
   "cell_type": "markdown",
   "metadata": {},
   "source": [
    "## Get Latitude and Longitude of Each City in the Data Set"
   ]
  },
  {
   "cell_type": "code",
   "execution_count": 3,
   "metadata": {},
   "outputs": [],
   "source": [
    "# Due to continued 'Time Out' errors, split the 800 unique cities into 8 batches of 100 each\n",
    "locations = list(rent_df['Location'].unique())\n",
    "location_batch_1 = locations[0:101]\n",
    "location_batch_2 = locations[101:201]\n",
    "location_batch_3 = locations[201:301]\n",
    "location_batch_4 = locations[301:401]\n",
    "location_batch_5 = locations[401:501]\n",
    "location_batch_6 = locations[501:601]\n",
    "location_batch_7 = locations[601:701]\n",
    "location_batch_8 = locations[701:-1]"
   ]
  },
  {
   "cell_type": "code",
   "execution_count": 4,
   "metadata": {},
   "outputs": [],
   "source": [
    "#Create empty lists to be used as columns after gathering Latitude and Longitude \n",
    "lat = []\n",
    "long = []"
   ]
  },
  {
   "cell_type": "code",
   "execution_count": 6,
   "metadata": {},
   "outputs": [],
   "source": [
    "#Define function to get lat/longs from a particular list of city names \n",
    "def lat_long(city_list):\n",
    "    count = 1\n",
    "    for i in city_list:\n",
    "        city = str(i)\n",
    "        geo = Nominatim(user_agent=\"my-application\",timeout=None)\n",
    "        location = geo.geocode(city)\n",
    "        latitude = location.latitude\n",
    "        longitude = location.longitude\n",
    "        lat.append(latitude)\n",
    "        long.append(longitude)\n",
    "        print(f\"{count}/{len(location_batch_1)} {i}: {latitude}, {longitude}\")\n",
    "        count +=1"
   ]
  },
  {
   "cell_type": "code",
   "execution_count": 7,
   "metadata": {},
   "outputs": [
    {
     "name": "stdout",
     "output_type": "stream",
     "text": [
      "1/101 New York, NY: 40.7127281, -74.0060152\n",
      "2/101 Los Angeles, CA: 34.0536909, -118.2427666\n",
      "3/101 Chicago, IL: 41.8755616, -87.6244212\n",
      "4/101 Houston, TX: 29.7589382, -95.3676974\n",
      "5/101 Philadelphia, PA: 39.9527237, -75.1635262\n",
      "6/101 Phoenix, AZ: 33.4485866, -112.0773456\n",
      "7/101 San Antonio, TX: 29.4246002, -98.4951405\n",
      "8/101 San Diego, CA: 32.7174209, -117.1627714\n",
      "9/101 Dallas, TX: 32.7762719, -96.7968559\n",
      "10/101 San Jose, CA: 37.3361905, -121.8905833\n",
      "11/101 Indianapolis, IN: 39.7683331, -86.1583502\n",
      "12/101 Jacksonville, FL: 30.3321838, -81.655651\n",
      "13/101 San Francisco, CA: 37.7792808, -122.4192363\n",
      "14/101 Austin, TX: 30.2711286, -97.7436995\n",
      "15/101 Columbus, OH: 39.9622601, -83.0007065\n",
      "16/101 Fort Worth, TX: 32.753177, -97.3327459\n",
      "17/101 Charlotte, NC: 35.2270869, -80.8431268\n",
      "18/101 Detroit, MI: 42.3315509, -83.0466403\n",
      "19/101 El Paso, TX: 31.7600372, -106.487287\n",
      "20/101 Memphis, TN: 35.1490215, -90.0516285\n",
      "21/101 Nashville, TN: 36.1622296, -86.7743531\n",
      "22/101 Baltimore, MD: 39.2908816, -76.610759\n",
      "23/101 Boston, MA: 42.3602534, -71.0582912\n",
      "24/101 Seattle, WA: 47.6038321, -122.3300624\n",
      "25/101 Louisville, KY: 38.2542376, -85.759407\n",
      "26/101 Washington, DC: 38.8950092, -77.0365625\n",
      "27/101 Denver, CO: 39.7392364, -104.9848623\n",
      "28/101 Milwaukee, WI: 43.0349931, -87.922497\n",
      "29/101 Portland, OR: 45.5202471, -122.6741949\n",
      "30/101 Las Vegas, NV: 36.1662859, -115.149225\n",
      "31/101 Oklahoma City, OK: 35.4729886, -97.5170536\n",
      "32/101 Albuquerque, NM: 35.0841034, -106.6509851\n",
      "33/101 Tucson, AZ: 32.2218917, -110.9262353\n",
      "34/101 Fresno, CA: 36.7295295, -119.708861260756\n",
      "35/101 Sacramento, CA: 38.5815719, -121.4943996\n",
      "36/101 Long Beach, CA: 33.7690164, -118.1916048\n",
      "37/101 Kansas City, MO: 39.100105, -94.5781416\n",
      "38/101 Mesa, AZ: 33.4151117, -111.8314773\n",
      "39/101 Virginia Beach, VA: 36.8529841, -75.9774183\n",
      "40/101 Atlanta, GA: 33.7490987, -84.3901849\n",
      "41/101 Colorado Springs, CO: 38.8339578, -104.8253485\n",
      "42/101 Omaha, NE: 41.2587459, -95.9383758\n",
      "43/101 Raleigh, NC: 35.7803977, -78.6390989\n",
      "44/101 Miami, FL: 25.7742658, -80.1936589\n",
      "45/101 Tulsa, OK: 36.1556805, -95.9929113\n",
      "46/101 Minneapolis, MN: 44.9772995, -93.2654692\n",
      "47/101 Wichita, KS: 37.6922361, -97.3375448\n",
      "48/101 Arlington, TX: 32.701939, -97.105624826688\n",
      "49/101 Bakersfield, CA: 35.3738712, -119.0194639\n",
      "50/101 New Orleans, LA: 29.9499323, -90.0701156\n",
      "51/101 Anaheim, CA: 33.8347516, -117.911732\n",
      "52/101 Tampa, FL: 27.9477595, -82.458444\n",
      "53/101 Aurora, CO: 39.729432, -104.8319196\n",
      "54/101 Santa Ana, CA: 33.7494951, -117.8732213\n",
      "55/101 St. Louis, MO: 38.6268039, -90.1994097\n",
      "56/101 Pittsburgh, PA: 40.4416941, -79.9900861\n",
      "57/101 Corpus Christi, TX: 27.8002542, -97.3955744\n",
      "58/101 Riverside, CA: 33.9533546, -117.3961623\n",
      "59/101 Cincinnati, OH: 39.1014537, -84.5124602\n",
      "60/101 Lexington, KY: 38.0464066, -84.4970393\n",
      "61/101 Anchorage, AK: 61.2163129, -149.8948523\n",
      "62/101 Stockton, CA: 37.9577016, -121.2907796\n",
      "63/101 Toledo, OH: 41.6786754, -83.5127283\n",
      "64/101 St. Paul, MN: 44.9504037, -93.1015026\n",
      "65/101 Greensboro, NC: 36.0726355, -79.7919754\n",
      "66/101 Buffalo, NY: 42.8867166, -78.8783922\n",
      "67/101 Plano, TX: 33.0136764, -96.6925096\n",
      "68/101 Lincoln, NE: 40.8, -96.667821\n",
      "69/101 Henderson, NV: 36.0391456, -114.9819235\n",
      "70/101 Fort Wayne, IN: 41.0799898, -85.1386015\n",
      "71/101 Jersey City, NJ: 40.7281575, -74.0776417\n",
      "72/101 St. Petersburg, FL: 27.7703796, -82.6695085\n",
      "73/101 Chula Vista, CA: 32.6400541, -117.0841955\n",
      "74/101 Norfolk, VA: 36.8462923, -76.2929252\n",
      "75/101 Orlando, FL: 28.5421097, -81.3790388\n",
      "76/101 Chandler, AZ: 33.3062223, -111.8413317\n",
      "77/101 Laredo, TX: 27.5199841, -99.4953764\n",
      "78/101 Madison, WI: 43.074761, -89.3837613\n",
      "79/101 Winston-Salem, NC: 36.0998131, -80.2440518\n",
      "80/101 Lubbock, TX: 33.5778631, -101.8551665\n",
      "81/101 Baton Rouge, LA: 30.4459596, -91.18738\n",
      "82/101 Durham, NC: 36.0181316, -78.8751582\n",
      "83/101 Garland, TX: 32.912624, -96.6388833\n",
      "84/101 Glendale, AZ: 33.5386858, -112.1859941\n",
      "85/101 Reno, NV: 39.52927, -119.8136744\n",
      "86/101 Chesapeake, VA: 36.7183708, -76.2466798\n",
      "87/101 Scottsdale, AZ: 33.5091215, -111.8992365\n",
      "88/101 North Las Vegas, NV: 36.2008371, -115.1120958\n",
      "89/101 Irving, TX: 32.8295183, -96.9442177\n",
      "90/101 Fremont, CA: 37.5482697, -121.9885719\n",
      "91/101 Irvine, CA: 33.6856969, -117.8259819\n",
      "92/101 Birmingham, AL: 33.5206824, -86.8024326\n",
      "93/101 Rochester, NY: 43.157285, -77.615214\n",
      "94/101 San Bernardino, CA: 34.1083449, -117.2897652\n",
      "95/101 Gilbert, AZ: 33.3527632, -111.7890373\n",
      "96/101 Arlington, VA: 38.8903961, -77.0841585\n",
      "97/101 Montgomery, AL: 32.3669656, -86.3006485\n",
      "98/101 Boise, ID: 43.61656, -116.200835\n",
      "99/101 Richmond, VA: 37.5385087, -77.43428\n",
      "100/101 Des Moines, IA: 41.5910641, -93.6037149\n",
      "101/101 Fayetteville, NC: 35.0525759, -78.878292\n"
     ]
    }
   ],
   "source": [
    "lat_long(location_batch_1)"
   ]
  },
  {
   "cell_type": "code",
   "execution_count": 8,
   "metadata": {},
   "outputs": [
    {
     "name": "stdout",
     "output_type": "stream",
     "text": [
      "1/101 Tacoma, WA: 47.2495798, -122.4398746\n",
      "2/101 Oxnard, CA: 34.1976308, -119.1803818\n",
      "3/101 Aurora, IL: 41.7571701, -88.3147539\n",
      "4/101 Augusta, GA: 33.4709714, -81.9748429\n",
      "5/101 Fontana, CA: 34.0922335, -117.435048\n",
      "6/101 Mobile, AL: 30.6943566, -88.0430541\n",
      "7/101 Little Rock, AR: 34.7464809, -92.2895948\n",
      "8/101 Moreno Valley, CA: 33.937517, -117.2305944\n",
      "9/101 Glendale, CA: 34.192912, -118.246248614754\n",
      "10/101 Amarillo, TX: 35.2072185, -101.8338246\n",
      "11/101 Columbus, GA: 32.4609764, -84.9877094\n",
      "12/101 Grand Rapids, MI: 42.9632405, -85.6678639\n",
      "13/101 Salt Lake City, UT: 40.7670126, -111.8904308\n",
      "14/101 Tallahassee, FL: 30.4380832, -84.2809332\n",
      "15/101 Worcester, MA: 42.2625932, -71.8022934\n",
      "16/101 Newport News, VA: 36.9786449, -76.4321089\n",
      "17/101 Huntsville, AL: 34.729847, -86.5859011\n",
      "18/101 Knoxville, TN: 35.9603948, -83.9210261\n",
      "19/101 Providence, RI: 41.8677428, -71.5814834\n",
      "20/101 Santa Clarita, CA: 34.3916641, -118.542586\n",
      "21/101 Grand Prairie, TX: 32.657368, -97.0284662417504\n",
      "22/101 Brownsville, TX: 25.9140256, -97.4890856\n",
      "23/101 Jackson, MS: 32.2990384, -90.1847691\n",
      "24/101 Overland Park, KS: 38.9742502, -94.6851702\n",
      "25/101 Garden Grove, CA: 33.7746292, -117.9463717\n",
      "26/101 Chattanooga, TN: 35.0456297, -85.3096801\n",
      "27/101 Oceanside, CA: 33.1958696, -117.3794834\n",
      "28/101 Fort Lauderdale, FL: 26.1223084, -80.1433786\n",
      "29/101 Rancho Cucamonga, CA: 34.1033192, -117.5751735\n",
      "30/101 Ontario, CA: 50.000678, -86.000977\n",
      "31/101 Vancouver, WA: 45.6306954, -122.6744557\n",
      "32/101 Tempe, AZ: 33.4255056, -111.9400125\n",
      "33/101 Springfield, MO: 37.2166779, -93.2920373\n",
      "34/101 Lancaster, CA: 34.6981064, -118.1366153\n",
      "35/101 Eugene, OR: 44.0505054, -123.0950506\n",
      "36/101 Pembroke Pines, FL: 26.02322025, -80.3412390662562\n",
      "37/101 Salem, OR: 44.9391565, -123.033121\n",
      "38/101 Cape Coral, FL: 26.6059432, -81.9806771\n",
      "39/101 Peoria, AZ: 33.5766205, -112.2398262\n",
      "40/101 Sioux Falls, SD: 43.5499749, -96.700327\n",
      "41/101 Rockford, IL: 42.2713945, -89.093966\n",
      "42/101 Palmdale, CA: 34.5793131, -118.1171108\n",
      "43/101 Corona, CA: 33.8752945, -117.5664449\n",
      "44/101 Salinas, CA: 36.6744117, -121.6550372\n",
      "45/101 Pasadena, TX: 29.6910625, -95.2091006\n",
      "46/101 Joliet, IL: 41.5263603, -88.0840212\n",
      "47/101 Kansas City, KS: 39.1134562, -94.626497\n",
      "48/101 Torrance, CA: 33.8358492, -118.3406288\n",
      "49/101 Syracuse, NY: 43.0481221, -76.1474244\n",
      "50/101 Hayward, CA: 37.6688205, -122.0807964\n",
      "51/101 Fort Collins, CO: 40.5508527, -105.0668085\n",
      "52/101 Escondido, CA: 33.1216751, -117.0814849\n",
      "53/101 Naperville, IL: 41.7728699, -88.1479278\n",
      "54/101 Dayton, OH: 39.7589478, -84.1916069\n",
      "55/101 Hollywood, FL: 26.0112014, -80.1494901\n",
      "56/101 Sunnyvale, CA: 37.3688301, -122.0363496\n",
      "57/101 Alexandria, VA: 38.8147596, -77.0902476527272\n",
      "58/101 Metairie, LA: 30.001852, -90.1767149159888\n",
      "59/101 Hampton, VA: 37.0300969, -76.3452057\n",
      "60/101 Pasadena, CA: 34.1476452, -118.1444779\n",
      "61/101 Orange, CA: 33.7500378, -117.8704931\n",
      "62/101 Savannah, GA: 32.0809263, -81.0911768\n",
      "63/101 Cary, NC: 35.7883046, -78.7811964\n",
      "64/101 Fullerton, CA: 33.8708215, -117.9294165\n",
      "65/101 Clarksville, TN: 36.5277607, -87.3588703\n",
      "66/101 McKinney, TX: 33.1976496, -96.6154471\n",
      "67/101 New Haven, CT: 41.3082138, -72.9250518\n",
      "68/101 Sterling Heights, MI: 42.5803122, -83.0302033\n",
      "69/101 Columbia, SC: 34.0007493, -81.0343313\n",
      "70/101 Killeen, TX: 31.1171441, -97.727796\n",
      "71/101 Topeka, KS: 39.049011, -95.677556\n",
      "72/101 Thousand Oaks, CA: 34.17142715, -118.910587729744\n",
      "73/101 Cedar Rapids, IA: 41.9758872, -91.6704053\n",
      "74/101 Olathe, KS: 38.8838856, -94.81887\n",
      "75/101 Elizabeth, NJ: 40.6639916, -74.2107006\n",
      "76/101 Waco, TX: 31.549333, -97.1466695\n",
      "77/101 Hartford, CT: 41.764582, -72.6908547\n",
      "78/101 Visalia, CA: 36.3302284, -119.2920585\n",
      "79/101 Gainesville, FL: 29.6519396, -82.3249961\n",
      "80/101 Simi Valley, CA: 34.2694474, -118.781482\n",
      "81/101 Stamford, CT: 41.0534302, -73.5387341\n",
      "82/101 Bellevue, WA: 47.6144219, -122.1923372\n",
      "83/101 Lafayette, LA: 30.2240897, -92.0198427\n",
      "84/101 Carrollton, TX: 32.9537349, -96.8902816\n",
      "85/101 Thornton, CO: 39.8695516, -104.9851819\n",
      "86/101 Allentown, PA: 40.6022059, -75.4712794\n",
      "87/101 Evansville, IN: 37.9747645, -87.5558483\n",
      "88/101 Abilene, TX: 32.4466741, -99.7333011\n",
      "89/101 Frisco, TX: 33.1506744, -96.8236116\n",
      "90/101 Independence, MO: 39.0924792, -94.4137923\n",
      "91/101 Santa Clara, CA: 37.3541132, -121.9551744\n",
      "92/101 Springfield, IL: 39.7990175, -89.6439575\n",
      "93/101 Victorville, CA: 34.5361067, -117.2911565\n",
      "94/101 Athens, GA: 33.9597677, -83.376398\n",
      "95/101 Peoria, IL: 40.6938609, -89.5891008\n",
      "96/101 Lansing, MI: 42.7337712, -84.5553805\n",
      "97/101 Ann Arbor, MI: 42.2681569, -83.7312291\n",
      "98/101 Denton, TX: 33.1838787, -97.1413417\n",
      "99/101 Downey, CA: 33.942215, -118.1235646\n",
      "100/101 Norman, OK: 35.2225717, -97.4394816\n"
     ]
    }
   ],
   "source": [
    "lat_long(location_batch_2)"
   ]
  },
  {
   "cell_type": "code",
   "execution_count": null,
   "metadata": {},
   "outputs": [],
   "source": [
    "lat_long(location_batch_3)"
   ]
  },
  {
   "cell_type": "code",
   "execution_count": null,
   "metadata": {},
   "outputs": [],
   "source": [
    "lat_long(location_batch_4)"
   ]
  },
  {
   "cell_type": "code",
   "execution_count": null,
   "metadata": {},
   "outputs": [],
   "source": [
    "lat_long(location_batch_5)"
   ]
  },
  {
   "cell_type": "code",
   "execution_count": null,
   "metadata": {},
   "outputs": [],
   "source": [
    "lat_long(location_batch_6)"
   ]
  },
  {
   "cell_type": "code",
   "execution_count": null,
   "metadata": {},
   "outputs": [],
   "source": [
    "lat_long(location_batch_7)"
   ]
  },
  {
   "cell_type": "code",
   "execution_count": null,
   "metadata": {},
   "outputs": [],
   "source": [
    "lat_long(location_batch_8)"
   ]
  },
  {
   "cell_type": "code",
   "execution_count": null,
   "metadata": {},
   "outputs": [],
   "source": [
    "rent_df['State'].value_counts()"
   ]
  },
  {
   "cell_type": "markdown",
   "metadata": {},
   "source": [
    "### Exploraton of the Data"
   ]
  },
  {
   "cell_type": "code",
   "execution_count": null,
   "metadata": {},
   "outputs": [],
   "source": [
    "rent_df.groupby(['State','Bedroom_Size']).mean().round(2)"
   ]
  },
  {
   "cell_type": "code",
   "execution_count": null,
   "metadata": {},
   "outputs": [],
   "source": [
    "rent_df.groupby(['State','Location','Bedroom_Size']).mean().round(2)"
   ]
  },
  {
   "cell_type": "markdown",
   "metadata": {},
   "source": [
    "#### Seperate By State"
   ]
  },
  {
   "cell_type": "code",
   "execution_count": null,
   "metadata": {},
   "outputs": [],
   "source": []
  },
  {
   "cell_type": "code",
   "execution_count": null,
   "metadata": {},
   "outputs": [],
   "source": []
  },
  {
   "cell_type": "markdown",
   "metadata": {},
   "source": [
    "#### Seperate By City Within State"
   ]
  },
  {
   "cell_type": "code",
   "execution_count": null,
   "metadata": {},
   "outputs": [],
   "source": []
  }
 ],
 "metadata": {
  "kernelspec": {
   "display_name": "Python 3",
   "language": "python",
   "name": "python3"
  },
  "language_info": {
   "codemirror_mode": {
    "name": "ipython",
    "version": 3
   },
   "file_extension": ".py",
   "mimetype": "text/x-python",
   "name": "python",
   "nbconvert_exporter": "python",
   "pygments_lexer": "ipython3",
   "version": "3.6.8"
  }
 },
 "nbformat": 4,
 "nbformat_minor": 2
}
